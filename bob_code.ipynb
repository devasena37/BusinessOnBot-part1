{
 "cells": [
  {
   "cell_type": "code",
   "execution_count": 1,
   "metadata": {},
   "outputs": [],
   "source": [
    "import pandas as pd"
   ]
  },
  {
   "cell_type": "code",
   "execution_count": 5,
   "metadata": {},
   "outputs": [],
   "source": [
    "data=pd.read_csv(\"E:\\\\bob\\\\bank_branches.csv\")"
   ]
  },
  {
   "cell_type": "code",
   "execution_count": 6,
   "metadata": {},
   "outputs": [
    {
     "data": {
      "text/html": [
       "<div>\n",
       "<style scoped>\n",
       "    .dataframe tbody tr th:only-of-type {\n",
       "        vertical-align: middle;\n",
       "    }\n",
       "\n",
       "    .dataframe tbody tr th {\n",
       "        vertical-align: top;\n",
       "    }\n",
       "\n",
       "    .dataframe thead th {\n",
       "        text-align: right;\n",
       "    }\n",
       "</style>\n",
       "<table border=\"1\" class=\"dataframe\">\n",
       "  <thead>\n",
       "    <tr style=\"text-align: right;\">\n",
       "      <th></th>\n",
       "      <th>ifsc</th>\n",
       "      <th>bank_id</th>\n",
       "      <th>branch</th>\n",
       "      <th>address</th>\n",
       "      <th>city</th>\n",
       "      <th>district</th>\n",
       "      <th>state</th>\n",
       "      <th>bank_name</th>\n",
       "    </tr>\n",
       "  </thead>\n",
       "  <tbody>\n",
       "    <tr>\n",
       "      <td>0</td>\n",
       "      <td>ABHY0065001</td>\n",
       "      <td>60</td>\n",
       "      <td>RTGS-HO</td>\n",
       "      <td>ABHYUDAYA BANK BLDG., B.NO.71, NEHRU NAGAR, KU...</td>\n",
       "      <td>MUMBAI</td>\n",
       "      <td>GREATER MUMBAI</td>\n",
       "      <td>MAHARASHTRA</td>\n",
       "      <td>ABHYUDAYA COOPERATIVE BANK LIMITED</td>\n",
       "    </tr>\n",
       "    <tr>\n",
       "      <td>1</td>\n",
       "      <td>ABHY0065002</td>\n",
       "      <td>60</td>\n",
       "      <td>ABHYUDAYA NAGAR</td>\n",
       "      <td>ABHYUDAYA EDUCATION SOCIETY, OPP. BLDG. NO. 18...</td>\n",
       "      <td>MUMBAI</td>\n",
       "      <td>GREATER MUMBAI</td>\n",
       "      <td>MAHARASHTRA</td>\n",
       "      <td>ABHYUDAYA COOPERATIVE BANK LIMITED</td>\n",
       "    </tr>\n",
       "    <tr>\n",
       "      <td>2</td>\n",
       "      <td>ABHY0065003</td>\n",
       "      <td>60</td>\n",
       "      <td>BAIL BAZAR</td>\n",
       "      <td>KMSPM'S SCHOOL, WADIA ESTATE, BAIL BAZAR-KURLA...</td>\n",
       "      <td>MUMBAI</td>\n",
       "      <td>GREATER MUMBAI</td>\n",
       "      <td>MAHARASHTRA</td>\n",
       "      <td>ABHYUDAYA COOPERATIVE BANK LIMITED</td>\n",
       "    </tr>\n",
       "    <tr>\n",
       "      <td>3</td>\n",
       "      <td>ABHY0065004</td>\n",
       "      <td>60</td>\n",
       "      <td>BHANDUP</td>\n",
       "      <td>CHETNA APARTMENTS, J.M.ROAD, BHANDUP, MUMBAI-4...</td>\n",
       "      <td>MUMBAI</td>\n",
       "      <td>GREATER MUMBAI</td>\n",
       "      <td>MAHARASHTRA</td>\n",
       "      <td>ABHYUDAYA COOPERATIVE BANK LIMITED</td>\n",
       "    </tr>\n",
       "    <tr>\n",
       "      <td>4</td>\n",
       "      <td>ABHY0065005</td>\n",
       "      <td>60</td>\n",
       "      <td>DARUKHANA</td>\n",
       "      <td>POTIA IND.ESTATE, REAY ROAD (E), DARUKHANA, MU...</td>\n",
       "      <td>MUMBAI</td>\n",
       "      <td>GREATER MUMBAI</td>\n",
       "      <td>MAHARASHTRA</td>\n",
       "      <td>ABHYUDAYA COOPERATIVE BANK LIMITED</td>\n",
       "    </tr>\n",
       "  </tbody>\n",
       "</table>\n",
       "</div>"
      ],
      "text/plain": [
       "          ifsc  bank_id           branch  \\\n",
       "0  ABHY0065001       60          RTGS-HO   \n",
       "1  ABHY0065002       60  ABHYUDAYA NAGAR   \n",
       "2  ABHY0065003       60       BAIL BAZAR   \n",
       "3  ABHY0065004       60          BHANDUP   \n",
       "4  ABHY0065005       60        DARUKHANA   \n",
       "\n",
       "                                             address    city        district  \\\n",
       "0  ABHYUDAYA BANK BLDG., B.NO.71, NEHRU NAGAR, KU...  MUMBAI  GREATER MUMBAI   \n",
       "1  ABHYUDAYA EDUCATION SOCIETY, OPP. BLDG. NO. 18...  MUMBAI  GREATER MUMBAI   \n",
       "2  KMSPM'S SCHOOL, WADIA ESTATE, BAIL BAZAR-KURLA...  MUMBAI  GREATER MUMBAI   \n",
       "3  CHETNA APARTMENTS, J.M.ROAD, BHANDUP, MUMBAI-4...  MUMBAI  GREATER MUMBAI   \n",
       "4  POTIA IND.ESTATE, REAY ROAD (E), DARUKHANA, MU...  MUMBAI  GREATER MUMBAI   \n",
       "\n",
       "         state                           bank_name  \n",
       "0  MAHARASHTRA  ABHYUDAYA COOPERATIVE BANK LIMITED  \n",
       "1  MAHARASHTRA  ABHYUDAYA COOPERATIVE BANK LIMITED  \n",
       "2  MAHARASHTRA  ABHYUDAYA COOPERATIVE BANK LIMITED  \n",
       "3  MAHARASHTRA  ABHYUDAYA COOPERATIVE BANK LIMITED  \n",
       "4  MAHARASHTRA  ABHYUDAYA COOPERATIVE BANK LIMITED  "
      ]
     },
     "execution_count": 6,
     "metadata": {},
     "output_type": "execute_result"
    }
   ],
   "source": [
    "data.head()"
   ]
  },
  {
   "cell_type": "code",
   "execution_count": 7,
   "metadata": {},
   "outputs": [],
   "source": [
    "import sqlite3"
   ]
  },
  {
   "cell_type": "code",
   "execution_count": 8,
   "metadata": {},
   "outputs": [],
   "source": [
    "connection = sqlite3.connect(\"bankdetails.db\")"
   ]
  },
  {
   "cell_type": "code",
   "execution_count": 9,
   "metadata": {},
   "outputs": [],
   "source": [
    "curs = connection.cursor()"
   ]
  },
  {
   "cell_type": "code",
   "execution_count": 10,
   "metadata": {},
   "outputs": [
    {
     "data": {
      "text/plain": [
       "<sqlite3.Cursor at 0x1bb52f64d50>"
      ]
     },
     "execution_count": 10,
     "metadata": {},
     "output_type": "execute_result"
    }
   ],
   "source": [
    "curs.execute(\"create table if not exists bankdetails\" + \" (ifsc text,bank_id integer, branch text,address text, city text,district text, state text, bank_name text)\")"
   ]
  },
  {
   "cell_type": "code",
   "execution_count": 11,
   "metadata": {},
   "outputs": [],
   "source": [
    "data.to_sql('bankdetails', connection, if_exists='replace', index=False)"
   ]
  },
  {
   "cell_type": "code",
   "execution_count": 12,
   "metadata": {},
   "outputs": [
    {
     "data": {
      "text/plain": [
       "<sqlite3.Cursor at 0x1bb52f64d50>"
      ]
     },
     "execution_count": 12,
     "metadata": {},
     "output_type": "execute_result"
    }
   ],
   "source": [
    "curs.execute('select * from bankdetails')"
   ]
  },
  {
   "cell_type": "code",
   "execution_count": 13,
   "metadata": {},
   "outputs": [],
   "source": [
    "records = curs.fetchall()"
   ]
  },
  {
   "cell_type": "code",
   "execution_count": null,
   "metadata": {},
   "outputs": [],
   "source": []
  }
 ],
 "metadata": {
  "interpreter": {
   "hash": "df7841a5d783348cfdd99546005a65003a9d5b73cf591aaf4b6a4b8c5d8217d0"
  },
  "kernelspec": {
   "display_name": "Python 3.7.4 64-bit",
   "language": "python",
   "name": "python3"
  },
  "language_info": {
   "codemirror_mode": {
    "name": "ipython",
    "version": 3
   },
   "file_extension": ".py",
   "mimetype": "text/x-python",
   "name": "python",
   "nbconvert_exporter": "python",
   "pygments_lexer": "ipython3",
   "version": "3.7.4"
  },
  "orig_nbformat": 4
 },
 "nbformat": 4,
 "nbformat_minor": 2
}
